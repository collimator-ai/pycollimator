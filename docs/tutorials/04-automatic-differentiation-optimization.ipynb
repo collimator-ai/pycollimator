{
 "cells": [
  {
   "cell_type": "markdown",
   "metadata": {},
   "source": [
    "# Automatic differentiation capabilities in Collimator\n",
    "\n",
    "Automatic differentiation is a powerful tool for computing derivatives of functions. It is used in many fields, including machine learning, optimization, and scientific computing. In this notebook, we will demonstrate how automatic differentiation can be used in Collimator.\n"
   ]
  },
  {
   "cell_type": "code",
   "execution_count": 1,
   "metadata": {},
   "outputs": [],
   "source": [
    "import control\n",
    "\n",
    "import jax\n",
    "import jax.numpy as jnp\n",
    "from jax import lax\n",
    "from functools import partial\n",
    "\n",
    "from scipy.optimize import minimize, root, least_squares\n",
    "from jax.scipy.optimize import minimize as minimize_jax\n",
    "from cyipopt import minimize_ipopt  # NOTE: requires IPOPT to be installed\n",
    "\n",
    "import collimator\n",
    "from collimator import logging\n",
    "\n",
    "logging.set_log_level(logging.ERROR)\n",
    "from collimator.library import *\n",
    "\n",
    "from collimator.simulation import SimulatorOptions\n",
    "\n",
    "from collimator.logging import logger\n",
    "\n",
    "import matplotlib.pyplot as plt"
   ]
  },
  {
   "cell_type": "markdown",
   "metadata": {},
   "source": [
    "## Nonlinear state-space model\n",
    "\n",
    "A general nonlinear state-space model with state vector $\\mathbf{x}$, measurement vector $\\mathbf{y}$, and control vector $\\mathbf{u}$ can be written as follows:\n",
    "\n",
    "**State Evolution (forward model)**\n",
    "$$\n",
    "\\mathbf{\\dot{x}} = \\mathbf{f}(\\mathbf{x},\\mathbf{u})\n",
    "$$\n",
    "**Measurement/Output function (observation model)**\n",
    "$$\n",
    "\\mathbf{y} = \\mathbf{g}(\\mathbf{x}, \\mathbf{u}).\n",
    "$$"
   ]
  },
  {
   "cell_type": "markdown",
   "metadata": {},
   "source": [
    "## Equilibrium points and linearization\n",
    "\n",
    "For linearization, we consider a first-order Taylor series expansion of the functions $\\mathbf{f}$ and $\\mathbf{g}$ around $(\\bar{\\mathbf{x}},\\bar{\\mathbf{u}})$. This gives\n",
    "\n",
    "\\begin{align}\n",
    "\\mathbf{f}(\\mathbf{x},\\mathbf{u}) &\\approx \\mathbf{f}(\\bar{\\mathbf{x}},\\bar{\\mathbf{u}}) + \\mathbf{A} \\delta \\mathbf{x} + \\mathbf{B} \\delta \\mathbf{u} \\\\\n",
    "\\mathbf{g}(\\mathbf{x},\\mathbf{u}) &\\approx \\mathbf{g}(\\bar{\\mathbf{x}},\\bar{\\mathbf{u}}) + \\mathbf{C} \\delta \\mathbf{x} + \\mathbf{D} \\delta \\mathbf{u},\n",
    "\\end{align}\n",
    "\n",
    "where $\\mathbf{A, B, C}$, and $\\mathbf{D}$ are the Jacobian matrices:\n",
    "\n",
    "\\begin{equation}\n",
    "\\begin{matrix}\n",
    "\\mathbf{A} = \\dfrac{\\partial \\mathbf{f}}{\\partial \\mathbf{x}} \\bigg|_{\\bar{\\mathbf{x}},\\bar{\\mathbf{u}}} &\n",
    "\\mathbf{B} = \\dfrac{\\partial \\mathbf{f}}{\\partial \\mathbf{u}} \\bigg|_{\\bar{\\mathbf{x}},\\bar{\\mathbf{u}}} \\\\[10pt]\n",
    "\\mathbf{C} = \\dfrac{\\partial \\mathbf{g}}{\\partial \\mathbf{x}} \\bigg|_{\\bar{\\mathbf{x}},\\bar{\\mathbf{u}}} &\n",
    "\\mathbf{D} = \\dfrac{\\partial \\mathbf{g}}{\\partial \\mathbf{u}} \\bigg|_{\\bar{\\mathbf{x}},\\bar{\\mathbf{u}}}\n",
    "\\end{matrix},\n",
    "\\end{equation}\n",
    "\n",
    "and \n",
    "$$\\delta \\mathbf{x} = \\mathbf{x} - \\bar{\\mathbf{x}},$$\n",
    "$$\\delta \\mathbf{u} = \\mathbf{u} - \\bar{\\mathbf{u}}.$$\n",
    "\n",
    "Additionally, by defining\n",
    "$$\\delta \\mathbf{y} = \\mathbf{y} - \\mathbf{g}(\\bar{\\mathbf{x}},\\bar{\\mathbf{u}}),$$\n",
    "\n",
    "and considering $(\\bar{\\mathbf{x}},\\bar{\\mathbf{u}})$ to be an *equilibrium point* (also known as a *fixed point*) where $\\mathbf{f}(\\bar{\\mathbf{x}},\\bar{\\mathbf{u}})=\\mathbf{0}$, the linearized state-space model (i.e. the linearized forward and observation models) in $\\delta \\mathbf{x}$ and $\\delta \\mathbf{y}$ become:\n",
    "\n",
    "\\begin{align}\n",
    "\\dot{\\delta\\mathbf{x}} &= \\mathbf{A}\\, \\delta \\mathbf{x} + \\mathbf{B}\\, \\delta \\mathbf{u} \\\\\n",
    "{\\delta\\mathbf{y}} &= \\mathbf{C}\\, \\delta \\mathbf{x} + \\mathbf{D}\\, \\delta \\mathbf{u}\n",
    "\\end{align}\n",
    "\n",
    "Often, the $\\delta$ notation are ommited and a change of origin is implied to write the linearized state-space model as:\n",
    "\n",
    "\\begin{align}\n",
    "\\dot{\\mathbf{x}} &= \\mathbf{A}  \\mathbf{x} + \\mathbf{B}  \\mathbf{u}  \\\\\n",
    "{\\mathbf{y}} &= \\mathbf{C}  \\mathbf{x} + \\mathbf{D}  \\mathbf{u}.\n",
    "\\end{align}\n",
    "\n",
    "\n",
    "For two examples plant models---Pendulum and Planar Quadrotor---we demonstrate how to (i) find equilibrium points, and (ii) linearize the plant around the equilibrium points."
   ]
  },
  {
   "cell_type": "markdown",
   "metadata": {},
   "source": [
    "### Example 1: Pendulum plant\n",
    "\n",
    "Consider a pendulum with a rigid rod of length $ L $ and a point mass $ m $ at the end. The pendulum is actuated by a torque $ u $ applied at the pivot. The damping coefficient is $b$. A schematic is shown below\n",
    "\n",
    "<img src=\"../media/pendulum.png\" alt=\"pendulum\" style=\"width: 300px;\"/>\n",
    "\n",
    "With angular velocity $ \\omega = \\dot{\\theta} $, and the state vector $\\mathbf{x} = [\\theta, \\omega]^T$, the dynamics of the pendulum are given by:\n",
    "\n",
    "\\begin{equation}\n",
    "\\mathbf{\\dot{x}} = \n",
    "\\begin{bmatrix}\n",
    "\\dot{\\theta} \\\\ \\dot{\\omega}\n",
    "\\end{bmatrix} = \n",
    "\\mathbf{f(x,u)} = \n",
    "\\begin{bmatrix}\n",
    "{f_1\\mathbf{(x,u)}} \\\\ {f_2\\mathbf{(x,u)}}\n",
    "\\end{bmatrix} = \n",
    "\\begin{bmatrix}\n",
    "\\omega \\\\ -\\dfrac{g}{L} \\sin(\\theta) - \\dfrac{b}{m L^2} \\omega +  \\dfrac{u}{m L^2}\n",
    "\\end{bmatrix},\n",
    "\\end{equation}\n",
    "\n",
    "where $ g $ is the acceleration due to gravity. Assume that the output of the Pendulum plant is only the angle $\\theta$. Thus\n",
    "\n",
    "$$\\mathbf{y} = \\mathbf{g(x,u)} = [g_1\\mathbf{(x,u)}] =  [\\theta].$$\n",
    "\n",
    "\n",
    "For linearization, the Jacobian matrices [see note on linearization and discretisation] for $\\mathbf{f}(\\mathbf{x,u})$ at an equilibrium point $(\\bar{\\mathbf{x}},\\bar{\\mathbf{u}})$ can be computed as follows:\n",
    "\n",
    "$$ \\mathbf{A} = \\dfrac{\\partial \\mathbf{f}}{\\partial \\mathbf{x}}\\bigg|_{\\bar{\\mathbf{x}},\\bar{\\mathbf{u}}} = \\begin{bmatrix} \\dfrac{\\partial f_1}{\\partial \\theta} & \\dfrac{\\partial f_1}{\\partial \\omega} \\\\[5pt] \\dfrac{\\partial f_2}{\\partial \\theta} & \\dfrac{\\partial f_2}{\\partial \\omega} \\end{bmatrix} =\n",
    "\\begin{bmatrix} 0 & 1 \\\\ -\\dfrac{g\\cos(\\bar{\\theta})}{L} & -\\dfrac{b}{mL^2} \\end{bmatrix}\n",
    "$$\n",
    "\n",
    "$$\n",
    "\\mathbf{B} =\n",
    "\\dfrac{\\partial \\mathbf{f}}{\\partial \\mathbf{u}}\\bigg|_{\\bar{\\mathbf{x}},\\bar{\\mathbf{u}}} =\n",
    "\\begin{bmatrix} \n",
    "\\dfrac{\\partial f_1}{\\partial u}\\\\[5pt]\n",
    "\\dfrac{\\partial f_2}{\\partial u}\n",
    "\\end{bmatrix} = \n",
    "\\begin{bmatrix} 0 \\\\ \\dfrac{1}{mL^2} \\end{bmatrix}\n",
    "$$\n",
    "\n",
    "Similarly, we can compute the Jacobain matrices for the observation operator:\n",
    "\n",
    "$$\n",
    "\\mathbf{C} = \\dfrac{\\partial \\mathbf{g}}{\\partial \\mathbf{x}} \\bigg|_{\\bar{\\mathbf{x}},\\bar{\\mathbf{u}}} = \n",
    "\\begin{bmatrix} \\dfrac{\\partial g_1}{\\partial \\theta} & \\dfrac{\\partial g_1}{\\partial \\omega} \\end{bmatrix} =\n",
    "[1, 0]\\\\[10pt]\n",
    "$$\n",
    "\n",
    "\n",
    "$$\n",
    "\\mathbf{D} = \\dfrac{\\partial \\mathbf{g}}{\\partial \\mathbf{u}} \\bigg|_{\\bar{\\mathbf{x}},\\bar{\\mathbf{u}}} = \n",
    "\\begin{bmatrix} \\dfrac{\\partial g_1}{\\partial u}\\end{bmatrix} = [0].\n",
    "$$"
   ]
  },
  {
   "cell_type": "markdown",
   "metadata": {},
   "source": [
    "#### Finding equilibrium points of the Pendulum plant\n",
    "\n",
    "While it is easy to see that the Pendulum has two equilibrium points, one at the up-swing position $ \\mathbf{\\bar{x}} = \\begin{bmatrix} \\pi &  0 \\end{bmatrix}^T $ and the other at the down-swing position $ \\mathbf{\\bar{x}} = \\begin{bmatrix} 0 & 0 \\end{bmatrix}^T $, with the control input $\\mathbf{\\bar{u}} = 0$ for both points, it is instructive to see how one can find these points programatically. The general appraoch is to create a function that takes $\\mathbf{x}$ and $\\mathbf{u}$ and outputs the $\\mathbf{f(x,u)}$, and then use an optimizer to minimize some suitable norm of $\\mathbf{f(x,u)}$. However, in this case there are infinitely many solutions as for $\\omega = 0$ any point satisfying $\\frac{g \\sin (\\theta)}{L} = \\frac{u}{m L^2}$ is an equilibrium point. For a fixed $u$, for example $u=0$, we can solve an optimization problem and find the two equilibrium points of the 'up' and 'down' orientations."
   ]
  },
  {
   "cell_type": "markdown",
   "metadata": {},
   "source": [
    "**Using JAX minimizers**"
   ]
  },
  {
   "cell_type": "code",
   "execution_count": 2,
   "metadata": {},
   "outputs": [
    {
     "name": "stdout",
     "output_type": "stream",
     "text": [
      "x_eq=Array([-2.40765351e-09, -2.55016218e-08], dtype=float64)\n"
     ]
    }
   ],
   "source": [
    "from collimator.models import Pendulum\n",
    "from jax.flatten_util import ravel_pytree\n",
    "\n",
    "plant = Pendulum(input_port=True, full_state_output=False)  # Create plant\n",
    "\n",
    "x_0 = jnp.array([0.1, 0.1])  # guess for optimization near 'down' orientation\n",
    "u_eq = jnp.array([0.0])  # fixed\n",
    "\n",
    "# create a base context with any value of input, here u_0\n",
    "plant.input_ports[0].fix_value(u_eq)\n",
    "context = plant.create_context()\n",
    "\n",
    "\n",
    "# Map from state to state derivatives\n",
    "def f(x, context):\n",
    "    context = context.with_continuous_state(x)\n",
    "    xdot = plant.eval_time_derivatives(context)\n",
    "    # return square of the L2 norm of xdot as objective\n",
    "    # to minimize\n",
    "    return jnp.dot(xdot, xdot)\n",
    "\n",
    "\n",
    "# Create the objective function for optimizers (one input only)\n",
    "opt_func = jax.jit(partial(f, context=context))\n",
    "\n",
    "# use JAX's mimimize routine to find the optimum\n",
    "res = minimize_jax(opt_func, x_0, method=\"BFGS\")\n",
    "x_eq = res.x\n",
    "print(f\"{x_eq=}\")"
   ]
  },
  {
   "cell_type": "markdown",
   "metadata": {},
   "source": [
    "If we start form a guess closer to the 'up' orientation, we will converge to the other equilibrium point."
   ]
  },
  {
   "cell_type": "code",
   "execution_count": 3,
   "metadata": {},
   "outputs": [
    {
     "name": "stdout",
     "output_type": "stream",
     "text": [
      "x_eq=Array([ 3.14159265e+00, -2.55016218e-08], dtype=float64)\n"
     ]
    }
   ],
   "source": [
    "x_0 = jnp.array([jnp.pi + 0.1, 0.1])\n",
    "\n",
    "res = minimize_jax(opt_func, x_0, method=\"BFGS\")\n",
    "x_eq = res.x\n",
    "print(f\"{x_eq=}\")"
   ]
  },
  {
   "cell_type": "markdown",
   "metadata": {},
   "source": [
    "**Using scipy minimizers:**\n",
    "We may also utilize `scipy` minimization routines, and provide an autodifferentiated jacobian function"
   ]
  },
  {
   "cell_type": "code",
   "execution_count": 4,
   "metadata": {},
   "outputs": [
    {
     "data": {
      "text/plain": [
       "array([ 5.79707512e-09, -3.64694947e-08])"
      ]
     },
     "execution_count": 4,
     "metadata": {},
     "output_type": "execute_result"
    }
   ],
   "source": [
    "# Down orientation\n",
    "x_0 = jnp.array([0.1, 0.1])\n",
    "res = minimize(opt_func, x_0, jac=jax.jacfwd(opt_func), method=\"BFGS\")\n",
    "res.x"
   ]
  },
  {
   "cell_type": "code",
   "execution_count": 5,
   "metadata": {},
   "outputs": [
    {
     "data": {
      "text/plain": [
       "array([ 3.14159265e+00, -3.64694947e-08])"
      ]
     },
     "execution_count": 5,
     "metadata": {},
     "output_type": "execute_result"
    }
   ],
   "source": [
    "# Up orientation\n",
    "x_0 = jnp.array([jnp.pi - 0.1, 0.1])\n",
    "res = minimize(opt_func, x_0, jac=jax.jacfwd(opt_func), method=\"BFGS\")\n",
    "res.x"
   ]
  },
  {
   "cell_type": "markdown",
   "metadata": {},
   "source": [
    "**Using external minimizers such as IPOPT:**\n",
    "We can also use external optimization libraries such as `IPOPT`\n",
    "\n",
    "NOTE This requires IPOPT to be installed, which is not currently a default dependency (try `pip install ipopt` locally)."
   ]
  },
  {
   "cell_type": "code",
   "execution_count": 6,
   "metadata": {},
   "outputs": [
    {
     "name": "stdout",
     "output_type": "stream",
     "text": [
      "\n",
      "******************************************************************************\n",
      "This program contains Ipopt, a library for large-scale nonlinear optimization.\n",
      " Ipopt is released as open source code under the Eclipse Public License (EPL).\n",
      "         For more information visit https://github.com/coin-or/Ipopt\n",
      "******************************************************************************\n",
      "\n"
     ]
    },
    {
     "data": {
      "text/plain": [
       "array([3.14159138e+00, 2.61157312e-17])"
      ]
     },
     "execution_count": 6,
     "metadata": {},
     "output_type": "execute_result"
    }
   ],
   "source": [
    "bounds = [\n",
    "    (-jnp.pi, jnp.pi),\n",
    "    (-10.0, 10.0),\n",
    "]  # lower and upper bounds on the optimization variables\n",
    "x0 = jnp.array([jnp.pi - 0.1, 0.1])\n",
    "res = minimize_ipopt(opt_func, jac=jax.jit(jax.grad(opt_func)), x0=x0, bounds=bounds)\n",
    "res.x"
   ]
  },
  {
   "cell_type": "markdown",
   "metadata": {},
   "source": [
    "**Using scipy root finding:**\n",
    "Another, more direct way to solve the problem is to use scipy.optimize.root.  Now the objective function isn't the norm of the right-hand-side of the ODE, but the ODE vector itself. The root-finding algorithm looks for zeros of the function $\\dot{x} = f(x) = 0$"
   ]
  },
  {
   "cell_type": "code",
   "execution_count": 7,
   "metadata": {},
   "outputs": [],
   "source": [
    "def ode(x, context):\n",
    "    context = context.with_continuous_state(x)\n",
    "    xdot = plant.eval_time_derivatives(context)\n",
    "    # return square of the L2 norm of xdot as objective\n",
    "    # to minimize\n",
    "    return xdot\n",
    "\n",
    "\n",
    "opt_func = jax.jit(partial(ode, context=context))"
   ]
  },
  {
   "cell_type": "code",
   "execution_count": 8,
   "metadata": {},
   "outputs": [
    {
     "data": {
      "text/plain": [
       "array([0., 0.])"
      ]
     },
     "execution_count": 8,
     "metadata": {},
     "output_type": "execute_result"
    }
   ],
   "source": [
    "# Down position\n",
    "x_0 = jnp.array([0.1, 0.1])\n",
    "res = root(opt_func, x_0, jac=jax.jacfwd(opt_func))\n",
    "res.x"
   ]
  },
  {
   "cell_type": "code",
   "execution_count": 9,
   "metadata": {},
   "outputs": [
    {
     "data": {
      "text/plain": [
       "array([ 3.14159265e+00, -2.23223673e-43])"
      ]
     },
     "execution_count": 9,
     "metadata": {},
     "output_type": "execute_result"
    }
   ],
   "source": [
    "# Up position\n",
    "x_0 = jnp.array([jnp.pi - 0.1, 0.1])\n",
    "res = root(opt_func, x_0, jac=jax.jacfwd(opt_func))\n",
    "res.x"
   ]
  },
  {
   "cell_type": "markdown",
   "metadata": {},
   "source": [
    "#### Linearization of the Pendulum plant\n",
    "\n",
    "Once we have determined the equilibrium points, we can linearize the plant around the equilibrium points.\n",
    "\n",
    "Collimator provides a utility `library.linearize` to automatically perform linearization of a plant around an equilibrium. However, let's first look at doing this from scratch."
   ]
  },
  {
   "cell_type": "code",
   "execution_count": 10,
   "metadata": {},
   "outputs": [],
   "source": [
    "plant = Pendulum(input_port=True, full_state_output=False)  # Create plant\n",
    "\n",
    "# Equilibrium point for the down orientation\n",
    "u_eq = jnp.array([0.0])\n",
    "x_eq = jnp.array([0.0, 0.0])\n",
    "\n",
    "# create a base context\n",
    "with plant.input_ports[0].fixed(u_eq):\n",
    "    context = plant.create_context()\n",
    "\n",
    "\n",
    "# Map from (state, inputs) to (state derivatives, outputs)\n",
    "@jax.jit\n",
    "def f(x, u, context):\n",
    "    with plant.input_ports[0].fixed(u):\n",
    "        context = context.with_continuous_state(x)\n",
    "        xdot = plant.eval_time_derivatives(context)\n",
    "        y = plant.output_ports[0].eval(context)\n",
    "    return xdot, y\n",
    "\n",
    "\n",
    "calc_jacobians = jax.jacfwd(f, argnums=(0, 1))\n",
    "jacobians_eq = calc_jacobians(x_eq, u_eq, context)"
   ]
  },
  {
   "cell_type": "markdown",
   "metadata": {},
   "source": [
    "For very large-scale systems we would not need to form the matrices explicitly in linearization, but would use matrix-free linear operators to define an LTI system.  The explicit matrices could be extracted on user command by evaluating standard basis vectors.  However, for this simple example we can just pull out the matrices by direct indexing:"
   ]
  },
  {
   "cell_type": "code",
   "execution_count": 11,
   "metadata": {},
   "outputs": [
    {
     "name": "stdout",
     "output_type": "stream",
     "text": [
      "A=Array([[ 0.  ,  1.  ],\n",
      "       [-9.81,  0.  ]], dtype=float64)\n",
      "B=Array([[0.],\n",
      "       [1.]], dtype=float64)\n",
      "C=Array([1., 0.], dtype=float64)\n",
      "D=Array([0.], dtype=float64)\n"
     ]
    },
    {
     "data": {
      "text/latex": [
       "$$\n",
       "\\left(\\begin{array}{rllrll|rll}\n",
       "0\\phantom{.}&\\hspace{-1em}&\\hspace{-1em}\\phantom{\\cdot}&1\\phantom{.}&\\hspace{-1em}&\\hspace{-1em}\\phantom{\\cdot}&0\\phantom{.}&\\hspace{-1em}&\\hspace{-1em}\\phantom{\\cdot}\\\\\n",
       "-9.&\\hspace{-1em}81&\\hspace{-1em}\\phantom{\\cdot}&0\\phantom{.}&\\hspace{-1em}&\\hspace{-1em}\\phantom{\\cdot}&1\\phantom{.}&\\hspace{-1em}&\\hspace{-1em}\\phantom{\\cdot}\\\\\n",
       "\\hline\n",
       "1\\phantom{.}&\\hspace{-1em}&\\hspace{-1em}\\phantom{\\cdot}&0\\phantom{.}&\\hspace{-1em}&\\hspace{-1em}\\phantom{\\cdot}&0\\phantom{.}&\\hspace{-1em}&\\hspace{-1em}\\phantom{\\cdot}\\\\\n",
       "\\end{array}\\right)\n",
       "$$"
      ],
      "text/plain": [
       "<LinearIOSystem:sys[2]:['u[0]']->['y[0]']>"
      ]
     },
     "execution_count": 11,
     "metadata": {},
     "output_type": "execute_result"
    }
   ],
   "source": [
    "A = jacobians_eq[0][0]\n",
    "B = jacobians_eq[0][1]\n",
    "C = jacobians_eq[1][0]\n",
    "D = jacobians_eq[1][1]\n",
    "\n",
    "print(f\"{A=}\")\n",
    "print(f\"{B=}\")\n",
    "print(f\"{C=}\")\n",
    "print(f\"{D=}\")\n",
    "\n",
    "lin_sys = control.ss(A, B, C, D)\n",
    "\n",
    "# Visualize a state-space representation of the linear plant\n",
    "lin_sys"
   ]
  },
  {
   "cell_type": "markdown",
   "metadata": {},
   "source": [
    "Alternatively, one can use the `library.linearize` utility provided by Collimator, which linearizes a plant around a provided context. We demonstrate its usage below for the 'up' orientation."
   ]
  },
  {
   "cell_type": "code",
   "execution_count": 12,
   "metadata": {},
   "outputs": [
    {
     "data": {
      "text/latex": [
       "$$\n",
       "\\left(\\begin{array}{rllrll|rll}\n",
       "0\\phantom{.}&\\hspace{-1em}&\\hspace{-1em}\\phantom{\\cdot}&1\\phantom{.}&\\hspace{-1em}&\\hspace{-1em}\\phantom{\\cdot}&0\\phantom{.}&\\hspace{-1em}&\\hspace{-1em}\\phantom{\\cdot}\\\\\n",
       "9.&\\hspace{-1em}81&\\hspace{-1em}\\phantom{\\cdot}&0\\phantom{.}&\\hspace{-1em}&\\hspace{-1em}\\phantom{\\cdot}&1\\phantom{.}&\\hspace{-1em}&\\hspace{-1em}\\phantom{\\cdot}\\\\\n",
       "\\hline\n",
       "1\\phantom{.}&\\hspace{-1em}&\\hspace{-1em}\\phantom{\\cdot}&0\\phantom{.}&\\hspace{-1em}&\\hspace{-1em}\\phantom{\\cdot}&0\\phantom{.}&\\hspace{-1em}&\\hspace{-1em}\\phantom{\\cdot}\\\\\n",
       "\\end{array}\\right)\n",
       "$$"
      ],
      "text/plain": [
       "<LinearIOSystem:sys[7]:['u[0]']->['y[0]']>"
      ]
     },
     "execution_count": 12,
     "metadata": {},
     "output_type": "execute_result"
    }
   ],
   "source": [
    "# Equilibrium point for the up orientation\n",
    "u_eq = jnp.array([0.0])\n",
    "x_eq = jnp.array([jnp.pi, 0.0])\n",
    "\n",
    "plant = Pendulum(input_port=True, full_state_output=False)  # Create plant\n",
    "\n",
    "# Fix the input_port to u_eq through a context manager\n",
    "with plant.input_ports[0].fixed(u_eq):\n",
    "    # Create a base context\n",
    "    base_context = plant.create_context()\n",
    "    # Set the the continuous state to x_eq in the context\n",
    "    eq_context = base_context.with_continuous_state(x_eq)\n",
    "    # Call linearize for the pendulum plant and equilibrium context\n",
    "    linear_plant = linearize(plant, eq_context)\n",
    "\n",
    "A, B, C, D = linear_plant.A, linear_plant.B, linear_plant.C, linear_plant.D\n",
    "\n",
    "# Visualize a state-space representation of the linear plant\n",
    "linear_plant"
   ]
  },
  {
   "cell_type": "markdown",
   "metadata": {},
   "source": [
    "For very large-scale systems we would not need to form the matrices explicitly in linearization, but would use matrix-free linear operators to define an LTI system.  The explicit matrices could be extracted on user command by evaluating standard basis vectors.  However, for this simple example we can just pull out the matrices by direct indexing:"
   ]
  },
  {
   "cell_type": "markdown",
   "metadata": {},
   "source": [
    "### Example 2: Equilibrium points and linearization of a Planar Quadrotor plant\n",
    "\n",
    "A schematic of the planar quadrotor (see [1] for details) is shown below\n",
    "\n",
    "<img src=\"../media/planar_quadrotor.png\" alt=\"planar quadrotor\" style=\"width: 400px;\"/>\n",
    "\n",
    "The quadrotor is of mass $m$, and the moment of inertia about the center of mass is $I_B$. The distance from the center of mass to the rotors is $r$. The angle of the quadrotor with respect to the horizontal is $\\theta$. The forces applied by the two rotors are $u_1$ and $u_2$. The dynamics of the quadrotor can be described as:\n",
    "\n",
    "\\begin{align}\n",
    "        m \\ddot{x} &= -(u_1 + u_2)\\sin\\theta,\\\\\n",
    "        m \\ddot{y} &= (u_1 + u_2)\\cos\\theta - mg,\\\\\n",
    "        I_B \\,\\ddot\\theta &= r (u_1 - u_2).\n",
    "        \\end{align}\n",
    "\n",
    "Implemenation as a system of first order differential equations leads to a state vector of size 6: $\\mathbf{x} = [x, y, \\theta, \\dot{x}, \\dot{y}, \\dot{\\theta}]$. The control input vector is of size 2: $\\mathbf{u} = [u_1, u_2]$. To find the equilibrium points we can use a number of optimization methods and design the objective function specific to that method. Some examples are below.\n",
    "\n",
    "**References**:\n",
    "> [1] Russ Tedrake. Underactuated Robotics: Algorithms for Walking, Running, Swimming, Flying, and Manipulation (Course Notes for MIT 6.832). [Available online.](https://underactuated.csail.mit.edu/)"
   ]
  },
  {
   "cell_type": "markdown",
   "metadata": {},
   "source": [
    "#### Equilibrium points of Planar Quadrotor\n",
    "\n",
    "**Least squares:**\n",
    "We can find the equilibrium points by the `scipy.optimize.least_squares`, which minimizes $\\frac12 ||\\mathbf{f(x,u)}||_2$, and expects a function returing $\\mathbf{f(x,u)}$."
   ]
  },
  {
   "cell_type": "code",
   "execution_count": 13,
   "metadata": {},
   "outputs": [
    {
     "name": "stdout",
     "output_type": "stream",
     "text": [
      "Root finding successful: [0.         0.         0.         0.         0.         0.\n",
      " 4.90499999 4.90499999]\n",
      "cost residual: 1.7467957663658344e-16\n",
      "weight/2 = 4.905\n"
     ]
    }
   ],
   "source": [
    "from collimator.models import PlanarQuadrotor\n",
    "\n",
    "from jax.flatten_util import ravel_pytree\n",
    "\n",
    "config = {\"m\": 1.0, \"I_B\": 1.0, \"r\": 0.5, \"g\": 9.81}  # quadrotor parameters\n",
    "\n",
    "plant = PlanarQuadrotor(**config)  # Create plant\n",
    "\n",
    "x_0 = jnp.zeros(6)  # guess for state vector\n",
    "u_0 = jnp.zeros(2)  # guess for control vector\n",
    "\n",
    "# create a base context with any value of input, here u_0\n",
    "with plant.input_ports[0].fixed(u_0):\n",
    "    context = plant.create_context()\n",
    "\n",
    "# The optimization variables will be a flat array of (x,u)\n",
    "# so create an unflatten function, that can get x and u separately\n",
    "optvars_0, unflatten = ravel_pytree((x_0, u_0))\n",
    "\n",
    "\n",
    "# Map from optimization variables to state derivatives\n",
    "def f(optvars, context, unflatten):\n",
    "    x, u = unflatten(optvars)\n",
    "    with plant.input_ports[0].fixed(u):\n",
    "        context = context.with_continuous_state(x)\n",
    "        xdot = plant.eval_time_derivatives(context)\n",
    "    return xdot\n",
    "\n",
    "\n",
    "opt_func = jax.jit(partial(f, context=context, unflatten=unflatten))\n",
    "\n",
    "opt_func(optvars_0)\n",
    "# res = root(opt_func, optvars_0, jac=jax.jacfwd(opt_func), method=\"lm\")\n",
    "\n",
    "res = least_squares(opt_func, optvars_0, jac=jax.jacfwd(opt_func))\n",
    "print(f\"Root finding successful: {res.x}\")\n",
    "print(f\"cost residual: {res.cost}\")\n",
    "x_eq, u_eq = unflatten(res.x)\n",
    "\n",
    "print(f\"weight/2 = {config['g']*config['m']/2}\")"
   ]
  },
  {
   "cell_type": "markdown",
   "metadata": {},
   "source": [
    "The quadrotor is in equilibrium when the forces applied by the rotors are such that the quadrotor is hovering at a given height. The forces are then such that the weight of the quadrotor is balanced by the forces applied by the rotors. The equilibrium point is then given by:\n",
    "\n",
    "$$ u_{eq} = \\left[\\frac{m g}{2}, \\frac{m g}{2}\\right], \\quad x_{eq} = [x, y, 0, 0, 0, 0]. $$\n",
    "\n",
    "In the equilibrium state, note that the coordinates of the quadrotor $x$ and $y$ are *arbitrary*, and the angle $\\theta$ is zero (horizontal orientation at hover). Thus any chosen $(x, y)$ can be used to define the equilibrium point. In our optimization case, $(x,y)$ at equilibrium points will be determined by the initial guesses."
   ]
  },
  {
   "cell_type": "code",
   "execution_count": 14,
   "metadata": {},
   "outputs": [
    {
     "name": "stdout",
     "output_type": "stream",
     "text": [
      "Root finding successful: [5.         5.         0.         0.         0.         0.\n",
      " 4.90499999 4.90499999]\n",
      "cost residual: 7.833734284324333e-17\n"
     ]
    }
   ],
   "source": [
    "x_0 = jnp.array([5.0, 5.0, 0.0, 0.0, 0.0, 0.0])  # guess for state vector\n",
    "u_0 = jnp.zeros(2)  # guess for control vector\n",
    "optvars_0, unflatten = ravel_pytree((x_0, u_0))\n",
    "\n",
    "res = least_squares(opt_func, optvars_0, jac=jax.jacfwd(opt_func))\n",
    "print(f\"Root finding successful: {res.x}\")\n",
    "print(f\"cost residual: {res.cost}\")\n",
    "x_eq, u_eq = unflatten(res.x)"
   ]
  },
  {
   "cell_type": "markdown",
   "metadata": {},
   "source": [
    "**Minimize routines:**\n",
    "We can also find the equilibrium points by the `scipy.optimize.minimize` (or alternatively JAX or IPOPT's minimization routines), by creating an objective function computing $||\\mathbf{f(x,u)}||_2$ "
   ]
  },
  {
   "cell_type": "code",
   "execution_count": 15,
   "metadata": {},
   "outputs": [
    {
     "name": "stdout",
     "output_type": "stream",
     "text": [
      "Root finding successful: [0.         0.         0.         0.         0.         0.\n",
      " 4.90499999 4.90499999]\n",
      "residual: 1.7467957663658344e-16\n",
      "weight/2 = 4.905\n"
     ]
    }
   ],
   "source": [
    "x_0 = jnp.zeros(6)  # guess for state vector\n",
    "u_0 = jnp.zeros(2)  # guess for control vector\n",
    "\n",
    "# create a base context with any value of input, here u_0\n",
    "with plant.input_ports[0].fixed(u_0):\n",
    "    context = plant.create_context()\n",
    "\n",
    "# The optimization variables will be a flat array of (x,u)\n",
    "# so create an unflatten function, that can get x and u separately\n",
    "optvars_0, unflatten = ravel_pytree((x_0, u_0))\n",
    "\n",
    "\n",
    "# Map from optimization variables to state derivatives\n",
    "def f(optvars, context, unflatten):\n",
    "    x, u = unflatten(optvars)\n",
    "    with plant.input_ports[0].fixed(u):\n",
    "        context = context.with_continuous_state(x)\n",
    "        xdot = plant.eval_time_derivatives(context)\n",
    "    return jnp.linalg.norm(xdot)\n",
    "\n",
    "\n",
    "opt_func = jax.jit(partial(f, context=context, unflatten=unflatten))\n",
    "\n",
    "opt_func(optvars_0)\n",
    "# res = root(opt_func, optvars_0, jac=jax.jacfwd(opt_func), method=\"lm\")\n",
    "\n",
    "res = least_squares(opt_func, optvars_0, jac=jax.jacfwd(opt_func))\n",
    "print(f\"Root finding successful: {res.x}\")\n",
    "print(f\"residual: {res.cost}\")\n",
    "x_eq, u_eq = unflatten(res.x)\n",
    "\n",
    "print(f\"weight/2 = {config['g']*config['m']/2}\")"
   ]
  },
  {
   "cell_type": "markdown",
   "metadata": {},
   "source": [
    "**Root finding routines:**\n",
    "We can also find the equilibrium points by the `scipy.optimize.root`. However, we now have to extend the function output so that there are as many equations as variables.  This is because the root-finding algorithm looks for zeros of the function $F(z) = 0$, where in this case $z = [x~u]$.  We can do this by just multiplying the inputs by zero to get the right dimensions"
   ]
  },
  {
   "cell_type": "code",
   "execution_count": 16,
   "metadata": {},
   "outputs": [
    {
     "name": "stdout",
     "output_type": "stream",
     "text": [
      "Root finding successful: [0.         0.         0.         0.         0.         0.\n",
      " 4.90499999 4.90499999]\n",
      "least squares residual: 1.7467957663658344e-16\n",
      "weight/2 = 4.905\n"
     ]
    }
   ],
   "source": [
    "x_0 = jnp.zeros(6)  # guess for state vector\n",
    "u_0 = jnp.zeros(2)  # guess for control vector\n",
    "\n",
    "# create a base context with any value of input, here u_0\n",
    "with plant.input_ports[0].fixed(u_0):\n",
    "    context = plant.create_context()\n",
    "\n",
    "# The optimization variables will be a flat array of (x,u)\n",
    "# so create an unflatten function, that can get x and u separately\n",
    "optvars_0, unflatten = ravel_pytree((x_0, u_0))\n",
    "\n",
    "\n",
    "# Map from optimization variables to state derivatives\n",
    "def f(optvars, context, unflatten):\n",
    "    x, u = unflatten(optvars)\n",
    "    with plant.input_ports[0].fixed(u):\n",
    "        context = context.with_continuous_state(x)\n",
    "        xdot = plant.eval_time_derivatives(context)\n",
    "    residual, _ = ravel_pytree((xdot, 0 * u))\n",
    "    return residual\n",
    "\n",
    "\n",
    "opt_func = jax.jit(partial(f, context=context, unflatten=unflatten))\n",
    "\n",
    "opt_func(optvars_0)\n",
    "# res = root(opt_func, optvars_0, jac=jax.jacfwd(opt_func), method=\"lm\")\n",
    "\n",
    "res = least_squares(opt_func, optvars_0, jac=jax.jacfwd(opt_func))\n",
    "print(f\"Root finding successful: {res.x}\")\n",
    "print(f\"least squares residual: {res.cost}\")\n",
    "x_eq, u_eq = unflatten(res.x)\n",
    "\n",
    "print(f\"weight/2 = {config['g']*config['m']/2}\")"
   ]
  },
  {
   "cell_type": "markdown",
   "metadata": {},
   "source": [
    "### Linearization of Planar Quadrotor\n",
    "\n",
    "Once we have found an equirlibrium points, we can linearize the plant around them."
   ]
  },
  {
   "cell_type": "code",
   "execution_count": 17,
   "metadata": {},
   "outputs": [
    {
     "name": "stdout",
     "output_type": "stream",
     "text": [
      "A=Array([[ 0.        ,  0.        ,  0.        ,  1.        ,  0.        ,\n",
      "         0.        ],\n",
      "       [ 0.        ,  0.        ,  0.        ,  0.        ,  1.        ,\n",
      "         0.        ],\n",
      "       [ 0.        ,  0.        ,  0.        ,  0.        ,  0.        ,\n",
      "         1.        ],\n",
      "       [ 0.        ,  0.        , -9.80999998, -0.        , -0.        ,\n",
      "        -0.        ],\n",
      "       [ 0.        ,  0.        , -0.        , -0.        , -0.        ,\n",
      "        -0.        ],\n",
      "       [ 0.        ,  0.        ,  0.        ,  0.        ,  0.        ,\n",
      "         0.        ]], dtype=float64)\n",
      "B=Array([[ 0. ,  0. ],\n",
      "       [ 0. ,  0. ],\n",
      "       [ 0. ,  0. ],\n",
      "       [-0. , -0. ],\n",
      "       [ 1. ,  1. ],\n",
      "       [ 0.5, -0.5]], dtype=float64)\n",
      "C=Array([[1., 0., 0., 0., 0., 0.],\n",
      "       [0., 1., 0., 0., 0., 0.],\n",
      "       [0., 0., 1., 0., 0., 0.],\n",
      "       [0., 0., 0., 1., 0., 0.],\n",
      "       [0., 0., 0., 0., 1., 0.],\n",
      "       [0., 0., 0., 0., 0., 1.]], dtype=float64)\n",
      "D=Array([[0., 0.],\n",
      "       [0., 0.],\n",
      "       [0., 0.],\n",
      "       [0., 0.],\n",
      "       [0., 0.],\n",
      "       [0., 0.]], dtype=float64)\n"
     ]
    }
   ],
   "source": [
    "# Fix the input_port to u_eq through a context manager\n",
    "with plant.input_ports[0].fixed(u_eq):\n",
    "    # Create a base context\n",
    "    base_context = plant.create_context()\n",
    "    # Set the the continuous state to x_eq in the context\n",
    "    eq_context = base_context.with_continuous_state(x_eq)\n",
    "    # Call linearize for the pendulum plant and equilibrium context\n",
    "    linear_plant = linearize(plant, eq_context)\n",
    "\n",
    "A, B, C, D = linear_plant.A, linear_plant.B, linear_plant.C, linear_plant.D\n",
    "\n",
    "print(f\"{A=}\")\n",
    "print(f\"{B=}\")\n",
    "print(f\"{C=}\")\n",
    "print(f\"{D=}\")"
   ]
  },
  {
   "cell_type": "markdown",
   "metadata": {},
   "source": [
    "## Paramter estimation/optimization"
   ]
  },
  {
   "cell_type": "markdown",
   "metadata": {},
   "source": [
    "We return to the Pendulum plant, and consider an optimization problem as follows: given fixed initial conditions $x_0$ and parameters $(m,g,L)$, find the optimal damping coefficient $b$ that minimizes the time taken by the pendulum to reach the state state $[\\theta=0, \\omega=0]^T.$\n",
    "\n",
    "Our strategy is to create the following scalar metric function\n",
    "\n",
    "$$\n",
    "F(t) = \\theta^2(t) + \\omega^2(t)\n",
    "$$,\n",
    "\n",
    "which, at any time $t$, quantifies the pendulum's state deviations from the stable target state. Then, in an interval $[0,t_{max}]$, we seek to minimize:\n",
    "\n",
    "$$\n",
    "\\int_0^{t_{max}} F(t) \\,dt\n",
    "$$.\n",
    "\n",
    "To implement this strategy in Collimator, we can add extra blocks to the pendulum plant to compute $\\int_0^{t_{max}} F(t) \\,dt$."
   ]
  },
  {
   "cell_type": "code",
   "execution_count": 19,
   "metadata": {},
   "outputs": [],
   "source": [
    "x0 = jnp.array([0.1, 0.0])\n",
    "config = {\"m\": 2.0, \"g\": 9.81, \"L\": 2.0, \"b\": 0.0}\n",
    "\n",
    "builder = collimator.DiagramBuilder()\n",
    "\n",
    "plant = Pendulum(\n",
    "    x0=x0, **config, input_port=True, full_state_output=True\n",
    ")  # Create plant with full state output\n",
    "plant.input_ports[0].fix_value(jnp.array([0.0]))\n",
    "\n",
    "builder.add(plant)\n",
    "\n",
    "state_squared = builder.add(Power(2, name=\"state_squared\"))\n",
    "sum_state_squared = builder.add(SumOfElements(name=\"sum_state_squared\"))\n",
    "objective = builder.add(Integrator(initial_state=0.0, name=\"objective\"))\n",
    "\n",
    "builder.connect(plant.output_ports[0], state_squared.input_ports[0])\n",
    "builder.connect(state_squared.output_ports[0], sum_state_squared.input_ports[0])\n",
    "builder.connect(sum_state_squared.output_ports[0], objective.input_ports[0])\n",
    "\n",
    "diagram = builder.build()\n",
    "context = diagram.create_context()\n",
    "\n",
    "t_max = 10.0\n",
    "\n",
    "options = SimulatorOptions(max_minor_step_size=0.1)\n",
    "\n",
    "recorded_signals = {\"x\": plant.output_ports[0], \"obj\": objective.output_ports[0]}\n",
    "\n",
    "\n",
    "def plot_response(b, context):\n",
    "    plant_subcontext = context[plant.system_id]\n",
    "    plant_new_subcontext = plant_subcontext.with_parameter(\"b\", b)\n",
    "\n",
    "    context = context.with_subcontext(plant.system_id, plant_new_subcontext)\n",
    "    sol = collimator.simulate(\n",
    "        diagram,\n",
    "        context,\n",
    "        (0.0, t_max),\n",
    "        options=options,\n",
    "        recorded_signals=recorded_signals,\n",
    "    )\n",
    "    fig, (ax1, ax2) = plt.subplots(1, 2, figsize=(10, 3))\n",
    "    ax1.plot(sol.time, sol.outputs[\"x\"][:, 0], label=r\"$\\theta$\")\n",
    "    ax1.plot(sol.time, sol.outputs[\"x\"][:, 1], label=r\"$\\omega$\")\n",
    "    ax2.plot(sol.outputs[\"obj\"], label=r\"$\\int_0^{t} F(\\tau) \\,d \\tau$\")\n",
    "    ax1.legend()\n",
    "    ax2.legend()\n",
    "    fig.suptitle(f\"{b=}\")"
   ]
  },
  {
   "cell_type": "markdown",
   "metadata": {},
   "source": [
    "Let's plot the response for a few different values of $b$."
   ]
  },
  {
   "cell_type": "code",
   "execution_count": 20,
   "metadata": {},
   "outputs": [
    {
     "data": {
      "image/png": "[encoded data removed]",
      "text/plain": [
       "<Figure size 1000x300 with 2 Axes>"
      ]
     },
     "metadata": {},
     "output_type": "display_data"
    },
    {
     "data": {
      "image/png": "[encoded data removed]",
      "text/plain": [
       "<Figure size 1000x300 with 2 Axes>"
      ]
     },
     "metadata": {},
     "output_type": "display_data"
    },
    {
     "data": {
      "image/png": "[encoded data removed]",
      "text/plain": [
       "<Figure size 1000x300 with 2 Axes>"
      ]
     },
     "metadata": {},
     "output_type": "display_data"
    }
   ],
   "source": [
    "plot_response(1.0, context)\n",
    "plot_response(10.0, context)\n",
    "plot_response(100.0, context)"
   ]
  },
  {
   "cell_type": "markdown",
   "metadata": {},
   "source": [
    "For optimization, we can create a more efficient forward function that doesn't do any plotting and returns the final value of the objective $\\int_0^{t_{max}} F(t) \\,dt$."
   ]
  },
  {
   "cell_type": "code",
   "execution_count": 21,
   "metadata": {},
   "outputs": [],
   "source": [
    "def forward(optvars, context):\n",
    "    b = optvars[0]\n",
    "    plant_subcontext = context[plant.system_id]\n",
    "    plant_new_subcontext = plant_subcontext.with_parameter(\"b\", b)\n",
    "\n",
    "    context = context.with_subcontext(plant.system_id, plant_new_subcontext)\n",
    "\n",
    "    options = SimulatorOptions(enable_autodiff=True, max_major_steps=1000, max_minor_step_size=0.1)\n",
    "    sol = collimator.simulate(diagram, context, (0.0, t_max), options=options)\n",
    "    objective_function = sol.context[diagram[\"objective\"].system_id].continuous_state\n",
    "\n",
    "    return objective_function\n",
    "\n",
    "\n",
    "opt_func = jax.jit(partial(forward, context=context))"
   ]
  },
  {
   "cell_type": "markdown",
   "metadata": {},
   "source": [
    "### Optimization with `scipy` routines\n",
    "\n",
    "We can now minimize our objective function to find the optimal $b$. "
   ]
  },
  {
   "cell_type": "code",
   "execution_count": 22,
   "metadata": {},
   "outputs": [
    {
     "name": "stdout",
     "output_type": "stream",
     "text": [
      "Optimal damping coefficient: 43.02513035255864\n",
      "Critical damping coefficient for linear pemdulum with sin(theta) ~ theta approx: 35.435575344560164\n"
     ]
    }
   ],
   "source": [
    "res = minimize(\n",
    "    opt_func,\n",
    "    jnp.array([10.0]),\n",
    "    # jac=jax.grad(opt_func),\n",
    "    method=\"BFGS\",\n",
    "    options={\"gtol\": 1e-08},\n",
    ")\n",
    "\n",
    "b_opt = res.x[0]\n",
    "b_critical = jnp.sqrt(4 * config[\"m\"] ** 2 * config[\"g\"] * config[\"L\"] ** 3)\n",
    "print(f\"Optimal damping coefficient: {b_opt}\")\n",
    "print(\n",
    "    f\"Critical damping coefficient for linear pemdulum with sin(theta) ~ theta approx: {b_critical}\"\n",
    ")"
   ]
  },
  {
   "cell_type": "markdown",
   "metadata": {},
   "source": [
    "We can look how the response with the optimal $b$ looks like."
   ]
  },
  {
   "cell_type": "code",
   "execution_count": 23,
   "metadata": {},
   "outputs": [
    {
     "data": {
      "image/png": "[encoded data removed]",
      "text/plain": [
       "<Figure size 1000x300 with 2 Axes>"
      ]
     },
     "metadata": {},
     "output_type": "display_data"
    }
   ],
   "source": [
    "plot_response(b_opt, context)"
   ]
  },
  {
   "cell_type": "markdown",
   "metadata": {},
   "source": [
    "This looks like a system close to critical damping. \n",
    "\n",
    "### Optimization with `JAX` routines\n",
    "\n",
    "One may user JAX or IPOPT routines in a similar manner."
   ]
  },
  {
   "cell_type": "code",
   "execution_count": 24,
   "metadata": {},
   "outputs": [
    {
     "name": "stdout",
     "output_type": "stream",
     "text": [
      "Optimal damping coefficient: 43.025648701831074\n",
      "Critical damping coefficient for linear pemdulum with sin(theta) ~ theta approx: 35.435575344560164\n"
     ]
    }
   ],
   "source": [
    "res = minimize_jax(opt_func, jnp.array([10.0]), method=\"BFGS\", options={\"gtol\": 1e-08})\n",
    "\n",
    "b_opt = res.x[0]\n",
    "b_critical = jnp.sqrt(4 * config[\"m\"] ** 2 * config[\"g\"] * config[\"L\"] ** 3)\n",
    "print(f\"Optimal damping coefficient: {b_opt}\")\n",
    "print(\n",
    "    f\"Critical damping coefficient for linear pemdulum with sin(theta) ~ theta approx: {b_critical}\"\n",
    ")"
   ]
  },
  {
   "cell_type": "code",
   "execution_count": null,
   "metadata": {},
   "outputs": [],
   "source": []
  }
 ],
 "metadata": {
  "kernelspec": {
   "display_name": "Python 3 (ipykernel)",
   "language": "python",
   "name": "python3"
  },
  "language_info": {
   "codemirror_mode": {
    "name": "ipython",
    "version": 3
   },
   "file_extension": ".py",
   "mimetype": "text/x-python",
   "name": "python",
   "nbconvert_exporter": "python",
   "pygments_lexer": "ipython3",
   "version": "3.11.6"
  }
 },
 "nbformat": 4,
 "nbformat_minor": 4
}
